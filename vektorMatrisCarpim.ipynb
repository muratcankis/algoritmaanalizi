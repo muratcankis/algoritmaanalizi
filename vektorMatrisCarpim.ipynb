{
 "cells": [
  {
   "cell_type": "code",
   "execution_count": 24,
   "metadata": {
    "collapsed": true
   },
   "outputs": [],
   "source": [
    "from random import randint\n",
    "\n",
    "def vektor_A_yarat(boyut): #create_A_vector\n",
    "    vektor=[]\n",
    "    for i in range(boyut):\n",
    "        vektor.append(randint(0,9))\n",
    "    return vektor"
   ]
  },
  {
   "cell_type": "code",
   "execution_count": 25,
   "metadata": {
    "collapsed": false
   },
   "outputs": [
    {
     "data": {
      "text/plain": [
       "[9, 1, 8, 4, 2]"
      ]
     },
     "execution_count": 25,
     "metadata": {},
     "output_type": "execute_result"
    }
   ],
   "source": [
    "vektor_1=vektor_A_yarat(5)\n",
    "vektor_1"
   ]
  },
  {
   "cell_type": "code",
   "execution_count": 26,
   "metadata": {
    "collapsed": false
   },
   "outputs": [],
   "source": [
    "def vektor_ic_carpim(v1,v2): #vector_inner_product\n",
    "    if(len(v1)!=len(v2)):\n",
    "        print(\"Vektorler Ayni Boyutta Olmalı !\")\n",
    "        return\n",
    "    result=0\n",
    "    for i in range(len(v1)):\n",
    "        result=result+v1[i]*v2[i]\n",
    "    return result"
   ]
  },
  {
   "cell_type": "code",
   "execution_count": 27,
   "metadata": {
    "collapsed": false
   },
   "outputs": [
    {
     "name": "stdout",
     "output_type": "stream",
     "text": [
      "[6, 4, 5, 0, 7, 1, 3, 9, 8, 1] [9, 3, 8, 5, 7, 1, 1, 5, 2, 8]\n"
     ]
    }
   ],
   "source": [
    "boyut=10\n",
    "vektor_1=vektor_A_yarat(boyut)\n",
    "vektor_2=vektor_A_yarat(boyut)\n",
    "print(vektor_1,vektor_2)"
   ]
  },
  {
   "cell_type": "code",
   "execution_count": 28,
   "metadata": {
    "collapsed": false
   },
   "outputs": [
    {
     "data": {
      "text/plain": [
       "228"
      ]
     },
     "execution_count": 28,
     "metadata": {},
     "output_type": "execute_result"
    }
   ],
   "source": [
    "vektor_carpim=vektor_ic_carpim(vektor_1,vektor_2)\n",
    "vektor_carpim"
   ]
  },
  {
   "cell_type": "code",
   "execution_count": 29,
   "metadata": {
    "collapsed": true
   },
   "outputs": [],
   "source": [
    "def matris_A_yarat(m,n):\n",
    "    matris=[]\n",
    "    for i in range(m):\n",
    "        matris.append(vektor_A_yarat(n))\n",
    "    return matris"
   ]
  },
  {
   "cell_type": "code",
   "execution_count": 30,
   "metadata": {
    "collapsed": false
   },
   "outputs": [
    {
     "data": {
      "text/plain": [
       "[[3, 1, 6], [5, 6, 6]]"
      ]
     },
     "execution_count": 30,
     "metadata": {},
     "output_type": "execute_result"
    }
   ],
   "source": [
    "a=matris_A_yarat(2,3)\n",
    "a"
   ]
  },
  {
   "cell_type": "code",
   "execution_count": 31,
   "metadata": {
    "collapsed": false
   },
   "outputs": [
    {
     "data": {
      "text/plain": [
       "(2, 3)"
      ]
     },
     "execution_count": 31,
     "metadata": {},
     "output_type": "execute_result"
    }
   ],
   "source": [
    "len(a),len(a[0])"
   ]
  },
  {
   "cell_type": "code",
   "execution_count": 32,
   "metadata": {
    "collapsed": false
   },
   "outputs": [],
   "source": [
    "def matris_carpma(a,b):\n",
    "    m=len(a)\n",
    "    n=len(a[0])\n",
    "    #n is also rovs of the b\n",
    "    p=len(b[0])\n",
    "    matris=matris_A_yarat(m,p)\n",
    "    \n",
    "    for i in range(m):\n",
    "        for j in range(p):\n",
    "            vektor_1=a[i]\n",
    "            vektor_2=[i[j] for i in b]\n",
    "            matris[i][j]=vektor_ic_carpim(vektor_1,vektor_2)\n",
    "    return (matris,m*n*p)"
   ]
  },
  {
   "cell_type": "code",
   "execution_count": 33,
   "metadata": {
    "collapsed": false
   },
   "outputs": [
    {
     "name": "stdout",
     "output_type": "stream",
     "text": [
      "([[99, 44, 54, 35, 74], [73, 39, 66, 32, 42]], 30)\n"
     ]
    }
   ],
   "source": [
    "a=matris_A_yarat(2,3)\n",
    "b=matris_A_yarat(3,5)\n",
    "c=matris_carpma(a,b)\n",
    "print(c)"
   ]
  },
  {
   "cell_type": "code",
   "execution_count": 34,
   "metadata": {
    "collapsed": false
   },
   "outputs": [
    {
     "name": "stdout",
     "output_type": "stream",
     "text": [
      "([[32787108, 88343041, 138434456]], 15) Toplam Islem Sayisi: 11020\n"
     ]
    }
   ],
   "source": [
    "a_1=matris_A_yarat(1,10)\n",
    "a_2=matris_A_yarat(10,1000)\n",
    "a_3=matris_A_yarat(1000,1)\n",
    "a_4=matris_A_yarat(1,5)\n",
    "a_5=matris_A_yarat(5,3)\n",
    "\n",
    "islem_sayisi=0\n",
    "\n",
    "r_1=matris_carpma(a_1,a_2)\n",
    "islem_sayisi=islem_sayisi+r_1[1]\n",
    "\n",
    "r_1=matris_carpma(r_1[0],a_3)\n",
    "islem_sayisi=islem_sayisi+r_1[1]\n",
    "\n",
    "r_1=matris_carpma(r_1[0],a_4)\n",
    "islem_sayisi=islem_sayisi+r_1[1]\n",
    "\n",
    "r_1=matris_carpma(r_1[0],a_5)\n",
    "islem_sayisi=islem_sayisi+r_1[1]\n",
    "\n",
    "print(r_1,\"Toplam Islem Sayisi:\",islem_sayisi)"
   ]
  },
  {
   "cell_type": "code",
   "execution_count": 35,
   "metadata": {
    "collapsed": false
   },
   "outputs": [
    {
     "name": "stdout",
     "output_type": "stream",
     "text": [
      "([[22306496, 27961664, 25448256]], 15) Toplam Islem Sayisi: 1021\n"
     ]
    }
   ],
   "source": [
    "a_1=matris_A_yarat(1,1000)\n",
    "a_2=matris_A_yarat(1000,1)\n",
    "a_3=matris_A_yarat(1,1)\n",
    "a_4=matris_A_yarat(1,5)\n",
    "a_5=matris_A_yarat(5,3)\n",
    "\n",
    "islem_sayisi=0\n",
    "\n",
    "r_1=matris_carpma(a_1,a_2)\n",
    "islem_sayisi=islem_sayisi+r_1[1]\n",
    "\n",
    "r_1=matris_carpma(r_1[0],a_3)\n",
    "islem_sayisi=islem_sayisi+r_1[1]\n",
    "\n",
    "r_1=matris_carpma(r_1[0],a_4)\n",
    "islem_sayisi=islem_sayisi+r_1[1]\n",
    "\n",
    "r_1=matris_carpma(r_1[0],a_5)\n",
    "islem_sayisi=islem_sayisi+r_1[1]\n",
    "\n",
    "print(r_1,\"Toplam Islem Sayisi:\",islem_sayisi)"
   ]
  },
  {
   "cell_type": "code",
   "execution_count": 38,
   "metadata": {
    "collapsed": false
   },
   "outputs": [
    {
     "name": "stdout",
     "output_type": "stream",
     "text": [
      "([[1004352, 3013056, 669568, 1004352, 1339136]], 5000) Toplam Islem Sayisi: 12000\n"
     ]
    }
   ],
   "source": [
    "a_1=matris_A_yarat(1,1000)\n",
    "a_2=matris_A_yarat(1000,1)\n",
    "a_3=matris_A_yarat(1,1)\n",
    "a_4=matris_A_yarat(1,5)\n",
    "a_5=matris_A_yarat(5,3)\n",
    "\n",
    "islem_sayisi=0\n",
    "\n",
    "r_1=matris_carpma(a_2,a_3)\n",
    "islem_sayisi=islem_sayisi+r_1[1]\n",
    "\n",
    "r_1=matris_carpma(r_1[0],a_3)\n",
    "islem_sayisi=islem_sayisi+r_1[1]\n",
    "\n",
    "r_1=matris_carpma(r_1[0],a_4)\n",
    "islem_sayisi=islem_sayisi+r_1[1]\n",
    "\n",
    "r_1=matris_carpma(a_1,r_1[0])\n",
    "islem_sayisi=islem_sayisi+r_1[1]\n",
    "\n",
    "print(r_1,\"Toplam Islem Sayisi:\",islem_sayisi)"
   ]
  }
 ],
 "metadata": {
  "anaconda-cloud": {},
  "kernelspec": {
   "display_name": "Python [default]",
   "language": "python",
   "name": "python3"
  },
  "language_info": {
   "codemirror_mode": {
    "name": "ipython",
    "version": 3
   },
   "file_extension": ".py",
   "mimetype": "text/x-python",
   "name": "python",
   "nbconvert_exporter": "python",
   "pygments_lexer": "ipython3",
   "version": "3.5.2"
  }
 },
 "nbformat": 4,
 "nbformat_minor": 1
}
